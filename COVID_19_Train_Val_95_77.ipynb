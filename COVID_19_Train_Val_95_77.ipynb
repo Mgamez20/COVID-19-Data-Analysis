{
  "nbformat": 4,
  "nbformat_minor": 0,
  "metadata": {
    "colab": {
      "name": "COVID-19 Train/Val 95.77.ipynb",
      "provenance": [],
      "authorship_tag": "ABX9TyP4MZXShu51rvTjlKtMUID9",
      "include_colab_link": true
    },
    "kernelspec": {
      "name": "python3",
      "display_name": "Python 3"
    },
    "accelerator": "GPU"
  },
  "cells": [
    {
      "cell_type": "markdown",
      "metadata": {
        "id": "view-in-github",
        "colab_type": "text"
      },
      "source": [
        "<a href=\"https://colab.research.google.com/github/Mgamez20/COVID-19-Data-Analysis/blob/main/COVID_19_Train_Val_95_77.ipynb\" target=\"_parent\"><img src=\"https://colab.research.google.com/assets/colab-badge.svg\" alt=\"Open In Colab\"/></a>"
      ]
    },
    {
      "cell_type": "code",
      "metadata": {
        "id": "frVVUsDzu15W",
        "colab": {
          "base_uri": "https://localhost:8080/",
          "height": 280
        },
        "outputId": "a6f5a74f-5a24-4981-f8a7-ab64282abd66"
      },
      "source": [
        "!pip install PyDrive"
      ],
      "execution_count": null,
      "outputs": [
        {
          "output_type": "stream",
          "text": [
            "Requirement already satisfied: PyDrive in /usr/local/lib/python3.6/dist-packages (1.3.1)\n",
            "Requirement already satisfied: oauth2client>=4.0.0 in /usr/local/lib/python3.6/dist-packages (from PyDrive) (4.1.3)\n",
            "Requirement already satisfied: google-api-python-client>=1.2 in /usr/local/lib/python3.6/dist-packages (from PyDrive) (1.7.12)\n",
            "Requirement already satisfied: PyYAML>=3.0 in /usr/local/lib/python3.6/dist-packages (from PyDrive) (3.13)\n",
            "Requirement already satisfied: six>=1.6.1 in /usr/local/lib/python3.6/dist-packages (from oauth2client>=4.0.0->PyDrive) (1.15.0)\n",
            "Requirement already satisfied: rsa>=3.1.4 in /usr/local/lib/python3.6/dist-packages (from oauth2client>=4.0.0->PyDrive) (4.6)\n",
            "Requirement already satisfied: pyasn1-modules>=0.0.5 in /usr/local/lib/python3.6/dist-packages (from oauth2client>=4.0.0->PyDrive) (0.2.8)\n",
            "Requirement already satisfied: httplib2>=0.9.1 in /usr/local/lib/python3.6/dist-packages (from oauth2client>=4.0.0->PyDrive) (0.17.4)\n",
            "Requirement already satisfied: pyasn1>=0.1.7 in /usr/local/lib/python3.6/dist-packages (from oauth2client>=4.0.0->PyDrive) (0.4.8)\n",
            "Requirement already satisfied: uritemplate<4dev,>=3.0.0 in /usr/local/lib/python3.6/dist-packages (from google-api-python-client>=1.2->PyDrive) (3.0.1)\n",
            "Requirement already satisfied: google-auth-httplib2>=0.0.3 in /usr/local/lib/python3.6/dist-packages (from google-api-python-client>=1.2->PyDrive) (0.0.4)\n",
            "Requirement already satisfied: google-auth>=1.4.1 in /usr/local/lib/python3.6/dist-packages (from google-api-python-client>=1.2->PyDrive) (1.17.2)\n",
            "Requirement already satisfied: cachetools<5.0,>=2.0.0 in /usr/local/lib/python3.6/dist-packages (from google-auth>=1.4.1->google-api-python-client>=1.2->PyDrive) (4.1.1)\n",
            "Requirement already satisfied: setuptools>=40.3.0 in /usr/local/lib/python3.6/dist-packages (from google-auth>=1.4.1->google-api-python-client>=1.2->PyDrive) (49.2.0)\n"
          ],
          "name": "stdout"
        }
      ]
    },
    {
      "cell_type": "code",
      "metadata": {
        "id": "cZ292ZgWu9zi"
      },
      "source": [
        "import os\n",
        "from pydrive.auth import GoogleAuth\n",
        "from pydrive.drive import GoogleDrive\n",
        "from google.colab import auth\n",
        "from oauth2client.client import GoogleCredentials\n",
        "\n",
        "auth.authenticate_user()\n",
        "gauth = GoogleAuth()\n",
        "gauth.credentials = GoogleCredentials.get_application_default()\n",
        "drive = GoogleDrive(gauth)\n",
        "\n",
        "# Autorizar el acceso a tu propia cuenta de google drive, \n",
        "# siga el enlace, acepte y copie el codigo de verificación."
      ],
      "execution_count": null,
      "outputs": []
    },
    {
      "cell_type": "code",
      "metadata": {
        "id": "lhNlBfOPvBZa"
      },
      "source": [
        "# Suba la base de datos en formato zip a su google drive\n",
        "# Del enlace para compartir del archivo \"obtener enlace para compartir\", \n",
        "# copie la parte \"YOUR_FILE_ID\" del enalce https://drive.google.com/open?id=YOUR_FILE_ID\n",
        "# peguelo en la variable YOUR_FILE_ID en esta celda\n",
        "# escriba el nombre del archivo en la variable filename\n",
        "\n",
        "YOUR_FILE_ID = '1kEL9YqW4Ylrh0ilWdxvBUyuZ5kvMJnxe'\n",
        "\n",
        "filename = 'DATASET_TRAIN_TEST_RES.zip'\n",
        "\n",
        "download = drive.CreateFile({'id': YOUR_FILE_ID})\n",
        "download.GetContentFile(filename)\n",
        "\n",
        "import zipfile\n",
        "zip_ref = zipfile.ZipFile(filename, 'r')\n",
        "zip_ref.extractall()\n",
        "zip_ref.close()"
      ],
      "execution_count": null,
      "outputs": []
    },
    {
      "cell_type": "code",
      "metadata": {
        "id": "469-Gx2RvLli",
        "colab": {
          "base_uri": "https://localhost:8080/",
          "height": 173
        },
        "outputId": "20d0b4b3-63f1-4fa6-e9bb-95e9777b759e"
      },
      "source": [
        "%tensorflow_version 1.x\n",
        "import os\n",
        "from keras.preprocessing.image import ImageDataGenerator\n",
        "\n",
        "#Dirección de la base de datos original\n",
        "base_dir = 'DATASET_TRAIN_TEST_RES'\n",
        "train_dir = os.path.join(base_dir, 'Train')\n",
        "test_dir = os.path.join(base_dir, 'Test')\n",
        "\n",
        "#Carpetas con imágenes de entrenamiento covid, neumonía y normal\n",
        "train_covid_dir = os.path.join(train_dir,'COVID19')\n",
        "train_normal_dir = os.path.join(train_dir,'Normal')\n",
        "train_neumonia_dir = os.path.join(train_dir,'Neumonía')\n",
        "\n",
        "#Verificación de imágenes entrenamiento\n",
        "print('total training COVID images:', len(os.listdir(train_covid_dir)))\n",
        "print('total training Normal images:', len(os.listdir(train_normal_dir)))\n",
        "print('total training Neumonía images:', len(os.listdir(train_neumonia_dir)))\n",
        "\n",
        "####################################################################################\n",
        "\n",
        "#Carpetas con imágenes de verificación covid, neumonia y normal\n",
        "test_covid_dir = os.path.join(test_dir,'COVID19')\n",
        "test_normal_dir = os.path.join(test_dir,'Normal')\n",
        "test_neumonia_dir = os.path.join(test_dir,'Neumonía')\n",
        "\n",
        "#Verificación de imágenes verificación\n",
        "print('\\ntotal test COVID images:', len(os.listdir(test_covid_dir)))\n",
        "print('total test Normal images:', len(os.listdir(test_normal_dir)))\n",
        "print('total test Neumonía images:', len(os.listdir(test_neumonia_dir)))"
      ],
      "execution_count": null,
      "outputs": [
        {
          "output_type": "stream",
          "text": [
            "TensorFlow 1.x selected.\n"
          ],
          "name": "stdout"
        },
        {
          "output_type": "stream",
          "text": [
            "Using TensorFlow backend.\n"
          ],
          "name": "stderr"
        },
        {
          "output_type": "stream",
          "text": [
            "total training COVID images: 450\n",
            "total training Normal images: 450\n",
            "total training Neumonía images: 450\n",
            "\n",
            "total test COVID images: 150\n",
            "total test Normal images: 150\n",
            "total test Neumonía images: 150\n"
          ],
          "name": "stdout"
        }
      ]
    },
    {
      "cell_type": "code",
      "metadata": {
        "id": "gagu66FDv0OY",
        "colab": {
          "base_uri": "https://localhost:8080/",
          "height": 52
        },
        "outputId": "92ddffcd-b766-48c3-9d14-ba5ef2041ee8"
      },
      "source": [
        "import os\n",
        "from keras.preprocessing.image import ImageDataGenerator\n",
        "\n",
        "#Pre-procesamiento de imágenes con Keras\n",
        "batch_size = 30\n",
        "\n",
        "train_datagen = ImageDataGenerator(rescale=1./255,\n",
        "                                   zoom_range=[0.8,1.0], horizontal_flip=True)\n",
        "\n",
        "test_datagen = ImageDataGenerator(rescale=1./255)\n",
        "\n",
        "train_generator = train_datagen.flow_from_directory(train_dir,\n",
        "                                                    target_size=(224,224),\n",
        "                                                    classes = ['COVID19','Normal','Neumonía'],\n",
        "                                                    batch_size=135,\n",
        "                                                    color_mode = \"grayscale\")\n",
        "test_generator = test_datagen.flow_from_directory(test_dir,\n",
        "                                                  target_size=(224,224),\n",
        "                                                  classes = ['COVID19','Normal','Neumonía'],\n",
        "                                                  batch_size=45,\n",
        "                                                  color_mode = \"grayscale\",\n",
        "                                                  shuffle = False)"
      ],
      "execution_count": null,
      "outputs": [
        {
          "output_type": "stream",
          "text": [
            "Found 1350 images belonging to 3 classes.\n",
            "Found 450 images belonging to 3 classes.\n"
          ],
          "name": "stdout"
        }
      ]
    },
    {
      "cell_type": "code",
      "metadata": {
        "id": "XFbAb6TcwdL0",
        "colab": {
          "base_uri": "https://localhost:8080/",
          "height": 227
        },
        "outputId": "51d6270f-6ef6-4a9f-deda-da4d40c02e8a"
      },
      "source": [
        "# Histogramas\n",
        "import matplotlib.pyplot as plt\n",
        "import numpy as np\n",
        "\n",
        "#se utilizan las \"y\" para poder contar\n",
        "plt.figure(figsize=(12,3))\n",
        "plt.subplot(1,2,1)\n",
        "plt.hist(train_generator.labels,bins=np.arange(-0.5,10.5,1.0), rwidth=0.7)\n",
        "plt.title(\"Entrenamiento\")\n",
        "plt.xticks(range(10))\n",
        "\n",
        "plt.subplot(1,2,2)\n",
        "plt.hist(test_generator.labels,bins=np.arange(-0.5,10.5,1.0), rwidth=0.7)\n",
        "plt.title(\"Prueba\")\n",
        "plt.xticks(range(10))\n",
        "\n",
        "plt.show()"
      ],
      "execution_count": null,
      "outputs": [
        {
          "output_type": "display_data",
          "data": {
            "image/png": "[encoded data removed]",
            "text/plain": [
              "<Figure size 864x216 with 2 Axes>"
            ]
          },
          "metadata": {
            "tags": [],
            "needs_background": "light"
          }
        }
      ]
    },
    {
      "cell_type": "code",
      "metadata": {
        "id": "N93fKqUbwiFY",
        "colab": {
          "base_uri": "https://localhost:8080/",
          "height": 783
        },
        "outputId": "c290080f-a514-4fa0-c8fc-6d46f87bd797"
      },
      "source": [
        "#Arquitectura Modelo Neuronal \n",
        "from keras.models import Sequential\n",
        "from keras.layers import Dense, Conv2D, MaxPooling2D, AveragePooling2D, Flatten, Dense, Dropout\n",
        "\n",
        "COVID_MODEL = Sequential()\n",
        "\n",
        "\n",
        "COVID_MODEL = Sequential()\n",
        "COVID_MODEL.add(Conv2D(64, (4,4), strides=(1,1), padding ='valid', activation='relu', input_shape=(224,224,1))) #inputshape es el tamaño de la entrada nxn y el numero de planos de color\n",
        "COVID_MODEL.add(MaxPooling2D(pool_size=(4,4), strides=(3,3)))\n",
        "\n",
        "COVID_MODEL.add(Conv2D(240, (2,2), strides=(1,1), padding = 'valid', activation='relu'))\n",
        "COVID_MODEL.add(MaxPooling2D(pool_size=(2,2), strides=(3,3)))\n",
        "\n",
        "COVID_MODEL.add(Conv2D(160, (2,2), strides=(1,1), padding = 'valid', activation='relu'))\n",
        "COVID_MODEL.add(MaxPooling2D(pool_size=(1,1), strides=(3,3)))\n",
        "\n",
        "COVID_MODEL.add(Conv2D(80, (2,2), strides=(1,1), padding = 'valid', activation='relu'))\n",
        "COVID_MODEL.add(MaxPooling2D(pool_size=(1,1), strides=(3,3)))\n",
        "\n",
        "COVID_MODEL.add(Conv2D(40, (2,2), strides=(1,1), padding = 'valid', activation='relu'))\n",
        "COVID_MODEL.add(MaxPooling2D(pool_size=(1,1), strides=(3,3)))\n",
        "\n",
        "COVID_MODEL.add(Flatten())\n",
        "COVID_MODEL.add(Dense(268, activation='relu')) #520\n",
        "COVID_MODEL.add(Dense(80, activation='relu')) #520\n",
        "COVID_MODEL.add(Dense(15, activation='relu')) #520\n",
        "COVID_MODEL.add(Dense(3, activation='sigmoid')) #520\n",
        "\n",
        "\n",
        "\n",
        "COVID_MODEL.summary()"
      ],
      "execution_count": null,
      "outputs": [
        {
          "output_type": "stream",
          "text": [
            "WARNING:tensorflow:From /tensorflow-1.15.2/python3.6/tensorflow_core/python/ops/resource_variable_ops.py:1630: calling BaseResourceVariable.__init__ (from tensorflow.python.ops.resource_variable_ops) with constraint is deprecated and will be removed in a future version.\n",
            "Instructions for updating:\n",
            "If using Keras pass *_constraint arguments to layers.\n",
            "WARNING:tensorflow:From /tensorflow-1.15.2/python3.6/keras/backend/tensorflow_backend.py:4070: The name tf.nn.max_pool is deprecated. Please use tf.nn.max_pool2d instead.\n",
            "\n",
            "Model: \"sequential_2\"\n",
            "_________________________________________________________________\n",
            "Layer (type)                 Output Shape              Param #   \n",
            "=================================================================\n",
            "conv2d_1 (Conv2D)            (None, 221, 221, 64)      1088      \n",
            "_________________________________________________________________\n",
            "max_pooling2d_1 (MaxPooling2 (None, 73, 73, 64)        0         \n",
            "_________________________________________________________________\n",
            "conv2d_2 (Conv2D)            (None, 72, 72, 240)       61680     \n",
            "_________________________________________________________________\n",
            "max_pooling2d_2 (MaxPooling2 (None, 24, 24, 240)       0         \n",
            "_________________________________________________________________\n",
            "conv2d_3 (Conv2D)            (None, 23, 23, 160)       153760    \n",
            "_________________________________________________________________\n",
            "max_pooling2d_3 (MaxPooling2 (None, 8, 8, 160)         0         \n",
            "_________________________________________________________________\n",
            "conv2d_4 (Conv2D)            (None, 7, 7, 80)          51280     \n",
            "_________________________________________________________________\n",
            "max_pooling2d_4 (MaxPooling2 (None, 3, 3, 80)          0         \n",
            "_________________________________________________________________\n",
            "conv2d_5 (Conv2D)            (None, 2, 2, 40)          12840     \n",
            "_________________________________________________________________\n",
            "max_pooling2d_5 (MaxPooling2 (None, 1, 1, 40)          0         \n",
            "_________________________________________________________________\n",
            "flatten_1 (Flatten)          (None, 40)                0         \n",
            "_________________________________________________________________\n",
            "dense_1 (Dense)              (None, 268)               10988     \n",
            "_________________________________________________________________\n",
            "dense_2 (Dense)              (None, 80)                21520     \n",
            "_________________________________________________________________\n",
            "dense_3 (Dense)              (None, 15)                1215      \n",
            "_________________________________________________________________\n",
            "dense_4 (Dense)              (None, 3)                 48        \n",
            "=================================================================\n",
            "Total params: 314,419\n",
            "Trainable params: 314,419\n",
            "Non-trainable params: 0\n",
            "_________________________________________________________________\n"
          ],
          "name": "stdout"
        }
      ]
    },
    {
      "cell_type": "code",
      "metadata": {
        "id": "pbORI1_iwvEh",
        "colab": {
          "base_uri": "https://localhost:8080/",
          "height": 1000
        },
        "outputId": "b02c91b3-93af-4057-bb71-d5bc2cbb77fa"
      },
      "source": [
        "###Entrenamiento y Validación Modelo COVID_MODEL###\n",
        "from keras.callbacks import ModelCheckpoint\n",
        "from keras import optimizers\n",
        "\n",
        "\n",
        "\n",
        "COVID_MODEL.compile(loss='categorical_crossentropy', optimizer=optimizers.Adamax(lr=1e-2), metrics=['acc']) \n",
        "\n",
        "\n",
        "checkpointer = ModelCheckpoint(filepath= \"COVID_MODEL.h5\", monitor='val_acc', verbose=0, \n",
        "                               save_best_only=True, mode='max', period=1)\n",
        "\n",
        "h = COVID_MODEL.fit_generator(train_generator, \n",
        "                               steps_per_epoch=90, #(1260/10)*2 \n",
        "                               epochs=50,\n",
        "                              validation_data = test_generator, \n",
        "                               validation_steps=18,\n",
        "                              callbacks=[checkpointer])"
      ],
      "execution_count": null,
      "outputs": [
        {
          "output_type": "stream",
          "text": [
            "WARNING:tensorflow:From /tensorflow-1.15.2/python3.6/tensorflow_core/python/ops/math_grad.py:1424: where (from tensorflow.python.ops.array_ops) is deprecated and will be removed in a future version.\n",
            "Instructions for updating:\n",
            "Use tf.where in 2.0, which has the same broadcast rule as np.where\n",
            "WARNING:tensorflow:From /tensorflow-1.15.2/python3.6/keras/backend/tensorflow_backend.py:422: The name tf.global_variables is deprecated. Please use tf.compat.v1.global_variables instead.\n",
            "\n",
            "Epoch 1/50\n",
            "90/90 [==============================] - 76s 845ms/step - loss: 0.7266 - acc: 0.6505 - val_loss: 1.0347 - val_acc: 0.8099\n",
            "Epoch 2/50\n",
            "90/90 [==============================] - 68s 758ms/step - loss: 0.4113 - acc: 0.8402 - val_loss: 0.4697 - val_acc: 0.9358\n",
            "Epoch 3/50\n",
            "90/90 [==============================] - 68s 759ms/step - loss: 0.2990 - acc: 0.8921 - val_loss: 0.0668 - val_acc: 0.8938\n",
            "Epoch 4/50\n",
            "90/90 [==============================] - 68s 761ms/step - loss: 0.2678 - acc: 0.8974 - val_loss: 0.2292 - val_acc: 0.8815\n",
            "Epoch 5/50\n",
            "90/90 [==============================] - 70s 779ms/step - loss: 0.2291 - acc: 0.9142 - val_loss: 0.1893 - val_acc: 0.9383\n",
            "Epoch 6/50\n",
            "90/90 [==============================] - 71s 785ms/step - loss: 0.2023 - acc: 0.9213 - val_loss: 0.3481 - val_acc: 0.9531\n",
            "Epoch 7/50\n",
            "90/90 [==============================] - 69s 771ms/step - loss: 0.1852 - acc: 0.9289 - val_loss: 0.3303 - val_acc: 0.9543\n",
            "Epoch 8/50\n",
            "90/90 [==============================] - 70s 779ms/step - loss: 0.1774 - acc: 0.9307 - val_loss: 0.0216 - val_acc: 0.9346\n",
            "Epoch 9/50\n",
            "90/90 [==============================] - 71s 791ms/step - loss: 0.1559 - acc: 0.9406 - val_loss: 0.0513 - val_acc: 0.9432\n",
            "Epoch 10/50\n",
            "90/90 [==============================] - 71s 787ms/step - loss: 0.1577 - acc: 0.9380 - val_loss: 0.2713 - val_acc: 0.9642\n",
            "Epoch 11/50\n",
            "90/90 [==============================] - 71s 784ms/step - loss: 0.1473 - acc: 0.9436 - val_loss: 0.2138 - val_acc: 0.9556\n",
            "Epoch 12/50\n",
            "90/90 [==============================] - 71s 791ms/step - loss: 0.1285 - acc: 0.9510 - val_loss: 0.2247 - val_acc: 0.9580\n",
            "Epoch 13/50\n",
            "90/90 [==============================] - 71s 789ms/step - loss: 0.1354 - acc: 0.9499 - val_loss: 0.1092 - val_acc: 0.9667\n",
            "Epoch 14/50\n",
            "90/90 [==============================] - 70s 779ms/step - loss: 0.1346 - acc: 0.9488 - val_loss: 0.0433 - val_acc: 0.9481\n",
            "Epoch 15/50\n",
            "90/90 [==============================] - 70s 782ms/step - loss: 0.1136 - acc: 0.9561 - val_loss: 0.3221 - val_acc: 0.9469\n",
            "Epoch 16/50\n",
            "90/90 [==============================] - 71s 788ms/step - loss: 0.1073 - acc: 0.9590 - val_loss: 0.3486 - val_acc: 0.9519\n",
            "Epoch 17/50\n",
            "90/90 [==============================] - 71s 785ms/step - loss: 0.1136 - acc: 0.9562 - val_loss: 0.0972 - val_acc: 0.9346\n",
            "Epoch 18/50\n",
            "90/90 [==============================] - 70s 782ms/step - loss: 0.1039 - acc: 0.9598 - val_loss: 0.0366 - val_acc: 0.9346\n",
            "Epoch 19/50\n",
            "90/90 [==============================] - 70s 783ms/step - loss: 0.0901 - acc: 0.9658 - val_loss: 0.1186 - val_acc: 0.8988\n",
            "Epoch 20/50\n",
            "90/90 [==============================] - 70s 780ms/step - loss: 0.1016 - acc: 0.9599 - val_loss: 0.4055 - val_acc: 0.9494\n",
            "Epoch 21/50\n",
            "90/90 [==============================] - 70s 779ms/step - loss: 0.0793 - acc: 0.9703 - val_loss: 0.3611 - val_acc: 0.9543\n",
            "Epoch 22/50\n",
            "90/90 [==============================] - 70s 781ms/step - loss: 0.0794 - acc: 0.9706 - val_loss: 0.4239 - val_acc: 0.9519\n",
            "Epoch 23/50\n",
            "90/90 [==============================] - 70s 778ms/step - loss: 0.0855 - acc: 0.9677 - val_loss: 0.0394 - val_acc: 0.9605\n",
            "Epoch 24/50\n",
            "90/90 [==============================] - 70s 774ms/step - loss: 0.0810 - acc: 0.9667 - val_loss: 0.0466 - val_acc: 0.9333\n",
            "Epoch 25/50\n",
            "90/90 [==============================] - 70s 774ms/step - loss: 0.0717 - acc: 0.9720 - val_loss: 0.4823 - val_acc: 0.9321\n",
            "Epoch 26/50\n",
            "90/90 [==============================] - 70s 778ms/step - loss: 0.0693 - acc: 0.9737 - val_loss: 0.2352 - val_acc: 0.9481\n",
            "Epoch 27/50\n",
            "90/90 [==============================] - 70s 778ms/step - loss: 0.0629 - acc: 0.9756 - val_loss: 0.2909 - val_acc: 0.9432\n",
            "Epoch 28/50\n",
            "90/90 [==============================] - 70s 780ms/step - loss: 0.0618 - acc: 0.9759 - val_loss: 0.0318 - val_acc: 0.9358\n",
            "Epoch 29/50\n",
            "90/90 [==============================] - 70s 773ms/step - loss: 0.0627 - acc: 0.9760 - val_loss: 0.1448 - val_acc: 0.9247\n",
            "Epoch 30/50\n",
            "90/90 [==============================] - 69s 766ms/step - loss: 0.0592 - acc: 0.9779 - val_loss: 0.4415 - val_acc: 0.9247\n",
            "Epoch 31/50\n",
            "90/90 [==============================] - 68s 756ms/step - loss: 0.0607 - acc: 0.9775 - val_loss: 0.3839 - val_acc: 0.9407\n",
            "Epoch 32/50\n",
            "90/90 [==============================] - 68s 761ms/step - loss: 0.0523 - acc: 0.9805 - val_loss: 0.3045 - val_acc: 0.9272\n",
            "Epoch 33/50\n",
            "90/90 [==============================] - 68s 757ms/step - loss: 0.0547 - acc: 0.9793 - val_loss: 0.0281 - val_acc: 0.9358\n",
            "Epoch 34/50\n",
            "90/90 [==============================] - 68s 755ms/step - loss: 0.0519 - acc: 0.9801 - val_loss: 0.0144 - val_acc: 0.9395\n",
            "Epoch 35/50\n",
            "90/90 [==============================] - 68s 750ms/step - loss: 0.0572 - acc: 0.9785 - val_loss: 0.4778 - val_acc: 0.9333\n",
            "Epoch 36/50\n",
            "90/90 [==============================] - 68s 754ms/step - loss: 0.0475 - acc: 0.9821 - val_loss: 0.3117 - val_acc: 0.9481\n",
            "Epoch 37/50\n",
            "90/90 [==============================] - 68s 753ms/step - loss: 0.0376 - acc: 0.9872 - val_loss: 0.4697 - val_acc: 0.9506\n",
            "Epoch 38/50\n",
            "90/90 [==============================] - 68s 752ms/step - loss: 0.0529 - acc: 0.9804 - val_loss: 0.0055 - val_acc: 0.9506\n",
            "Epoch 39/50\n",
            "90/90 [==============================] - 68s 751ms/step - loss: 0.0425 - acc: 0.9835 - val_loss: 0.0681 - val_acc: 0.9593\n",
            "Epoch 40/50\n",
            "90/90 [==============================] - 67s 746ms/step - loss: 0.0380 - acc: 0.9842 - val_loss: 0.6165 - val_acc: 0.9346\n",
            "Epoch 41/50\n",
            "90/90 [==============================] - 67s 744ms/step - loss: 0.0438 - acc: 0.9831 - val_loss: 0.6968 - val_acc: 0.9346\n",
            "Epoch 42/50\n",
            "90/90 [==============================] - 68s 751ms/step - loss: 0.0340 - acc: 0.9872 - val_loss: 0.3190 - val_acc: 0.9432\n",
            "Epoch 43/50\n",
            "90/90 [==============================] - 67s 749ms/step - loss: 0.0389 - acc: 0.9853 - val_loss: 0.0509 - val_acc: 0.9543\n",
            "Epoch 44/50\n",
            "90/90 [==============================] - 67s 744ms/step - loss: 0.0304 - acc: 0.9887 - val_loss: 0.0216 - val_acc: 0.9494\n",
            "Epoch 45/50\n",
            "90/90 [==============================] - 67s 746ms/step - loss: 0.0355 - acc: 0.9866 - val_loss: 0.6764 - val_acc: 0.9383\n",
            "Epoch 46/50\n",
            "90/90 [==============================] - 67s 749ms/step - loss: 0.0267 - acc: 0.9904 - val_loss: 0.3519 - val_acc: 0.9506\n",
            "Epoch 47/50\n",
            "90/90 [==============================] - 68s 755ms/step - loss: 0.0319 - acc: 0.9885 - val_loss: 0.6145 - val_acc: 0.9444\n",
            "Epoch 48/50\n",
            "90/90 [==============================] - 68s 759ms/step - loss: 0.0309 - acc: 0.9897 - val_loss: 0.1197 - val_acc: 0.9370\n",
            "Epoch 49/50\n",
            "90/90 [==============================] - 68s 753ms/step - loss: 0.0328 - acc: 0.9881 - val_loss: 0.0880 - val_acc: 0.9420\n",
            "Epoch 50/50\n",
            "90/90 [==============================] - 68s 759ms/step - loss: 0.0284 - acc: 0.9896 - val_loss: 0.2309 - val_acc: 0.9481\n"
          ],
          "name": "stdout"
        }
      ]
    },
    {
      "cell_type": "code",
      "metadata": {
        "id": "cyUXTQvhxGIv",
        "colab": {
          "base_uri": "https://localhost:8080/",
          "height": 262
        },
        "outputId": "86585df9-85a8-4cc1-f37c-2c209b73d1c1"
      },
      "source": [
        " ##Gráfica de entrenamiento modelo InceptionResNetV2 (1)##\n",
        "import matplotlib.pyplot as plt\n",
        "import numpy as np\n",
        "\n",
        "epoch_max = np.argmax(h.history['val_acc'])\n",
        "plt.figure(num=None, figsize=(4, 3))\n",
        "plt.plot(h.history['acc'], label='train_acc')\n",
        "plt.plot(h.history['val_acc'], label='val_acc')\n",
        "plt.legend(loc='lower right')\n",
        "plt.plot(epoch_max, h.history['val_acc'][epoch_max],'*')\n",
        "plt.title('Accuracy')\n",
        "plt.show()\n",
        "\n",
        "COVID_MODEL.load_weights('COVID_MODEL.h5') #cambiar conforme al modelo (1)\n",
        "\n",
        "##Porcentaje de Entrenamiento y Validación del Modelo InceptionResNetV2##\n",
        "loss, acc = COVID_MODEL.evaluate_generator(train_generator, steps=90) #cambiar conforme al modelo\n",
        "print('train acc =', acc)\n",
        "loss, acc = COVID_MODEL.evaluate_generator(test_generator, steps=18) #cambiar conforme al modelo\n",
        "print('test acc =', acc)"
      ],
      "execution_count": null,
      "outputs": [
        {
          "output_type": "display_data",
          "data": {
            "image/png": "[encoded data removed]",
            "text/plain": [
              "<Figure size 288x216 with 1 Axes>"
            ]
          },
          "metadata": {
            "tags": [],
            "needs_background": "light"
          }
        },
        {
          "output_type": "stream",
          "text": [
            "train acc = 0.9543209671974182\n",
            "test acc = 0.970370352268219\n"
          ],
          "name": "stdout"
        }
      ]
    },
    {
      "cell_type": "code",
      "metadata": {
        "id": "gvyU0NHvJD1h",
        "colab": {
          "base_uri": "https://localhost:8080/",
          "height": 121
        },
        "outputId": "31a98f2a-d00d-4248-8d13-24199c45f25f"
      },
      "source": [
        "#Matriz deconfusion chida\n",
        "from sklearn.metrics import classification_report, confusion_matrix\n",
        "from keras.models import load_model\n",
        "import numpy as np\n",
        "import cv2\n",
        "import scipy as sp\n",
        "\n",
        "modelo = COVID_MODEL\n",
        "\n",
        "filenames = test_generator.filenames\n",
        "nb_samples = len(filenames)\n",
        "print(nb_samples)\n",
        "predictions = modelo.predict_generator(test_generator, steps = 10) #Steps se multiplica con el tamaño del batch\n",
        "\n",
        "Y_pred = predictions\n",
        "y_pred = np.argmax(Y_pred, axis=1)\n",
        "\n",
        "print('Confusion Matrix')\n",
        "print(confusion_matrix(test_generator.classes, y_pred))\n",
        "print(Y_pred.shape)\n",
        "cm = confusion_matrix(test_generator.classes, y_pred)"
      ],
      "execution_count": null,
      "outputs": [
        {
          "output_type": "stream",
          "text": [
            "450\n",
            "Confusion Matrix\n",
            "[[146   2   2]\n",
            " [  0 146   4]\n",
            " [  3   4 143]]\n",
            "(450, 3)\n"
          ],
          "name": "stdout"
        }
      ]
    },
    {
      "cell_type": "code",
      "metadata": {
        "id": "4uCsnMoXMF6q"
      },
      "source": [
        "%matplotlib inline\n",
        "from sklearn.metrics import confusion_matrix\n",
        "import itertools\n",
        "import matplotlib.pyplot as plt\n",
        "\n",
        "\n",
        "\n",
        "def plot_confusion_matrix(cm, classes, normalize=False, title='Martiz de Confusión', cmap = plt.cm.Blues):\n",
        "  plt.imshow(cm,interpolation='nearest',cmap=cmap)\n",
        "  plt.title(title)\n",
        "  plt.colorbar()\n",
        "  tick_marks = np.arange(len(classes))\n",
        "  plt.xticks(tick_marks, classes, rotation=45)\n",
        "  plt.yticks(tick_marks, classes)\n",
        "\n",
        "  if normalize:\n",
        "    cm = cm.astype('float') / cm.sum(axis=1)[:,np.newaxis]\n",
        "    print(\"Matriz de Confusión Normalizada\")\n",
        "  else:\n",
        "    print(\"Matriz de Confusión sin Normalización\")\n",
        "  \n",
        "  print(cm)\n",
        "\n",
        "  thresh = cm.max() / 2\n",
        "  for i,j in itertools.product(range(cm.shape[0]), range(cm.shape[1])):\n",
        "    plt.text(j, i, cm[i, j], horizontalalignment=\"center\",\n",
        "             color=\"white\" if cm[i,j] > thresh else \"black\")\n",
        "  plt.tight_layout()\n",
        "  plt.ylabel('Clase Verdadera')\n",
        "  plt.xlabel('Clase Predicha')"
      ],
      "execution_count": null,
      "outputs": []
    },
    {
      "cell_type": "code",
      "metadata": {
        "id": "zq5d-nyBMYi2",
        "colab": {
          "base_uri": "https://localhost:8080/",
          "height": 381
        },
        "outputId": "bd436944-4608-4165-8644-bda9a5a9c0c5"
      },
      "source": [
        "cm_plot_labels = ['COVID19', 'Neumonía', 'Normal']\n",
        "cm = confusion_matrix(test_generator.classes, y_pred)\n",
        "plot_confusion_matrix(cm, cm_plot_labels, title = 'Matriz de Confusión')"
      ],
      "execution_count": null,
      "outputs": [
        {
          "output_type": "stream",
          "text": [
            "Matriz de Confusión sin Normalización\n",
            "[[143   1   6]\n",
            " [  2 145   3]\n",
            " [  3   4 143]]\n"
          ],
          "name": "stdout"
        },
        {
          "output_type": "display_data",
          "data": {
            "image/png": "[encoded data removed]",
            "text/plain": [
              "<Figure size 432x288 with 2 Axes>"
            ]
          },
          "metadata": {
            "tags": [],
            "needs_background": "light"
          }
        }
      ]
    },
    {
      "cell_type": "code",
      "metadata": {
        "id": "99ObZoUqMc9U",
        "colab": {
          "base_uri": "https://localhost:8080/",
          "height": 312
        },
        "outputId": "a369f6f2-a53b-4f15-a2ee-3ac4db2de14f"
      },
      "source": [
        "#### MÉTRICAS MATRIZ DE CONFUSIÓN ###\n",
        "\n",
        "#Verdadedos Positivos COVID = 89\n",
        "#Verdaderos Positivos Neumonía = 85 \n",
        "#Verdaderos Positivos Normal = 83 \n",
        "\n",
        "#Falsos Negativos COVID = 1\n",
        "#Falsos Negativos Neumonía = 5\n",
        "#Falsos Negativos Normal =  7\n",
        "\n",
        "#Falso Positivo COVID = 2\n",
        "#Falso Positivo Neumonía = 5\n",
        "#Falso Positivo Normal = 6\n",
        "\n",
        "#Verdaderos Negativos COVID = 178\n",
        "#Verdaderos Negativos Neumonía = 175\n",
        "#Verdaderos Negativos Normal = 174\n",
        "\n",
        "\n",
        "###Precisión (Accuracy)###\n",
        "precision = (cm[0][0]+cm[1][1]+cm[2][2])/450\n",
        "print (\"Precisión: \"+\"{0:.3f}\".format(precision*100)+\"%\")\n",
        "\n",
        "###Exactitud (Precision)###\n",
        "exactitud_covid = cm[0][0]/(cm[0][0]+cm[0][1]+cm[0][2])\n",
        "print(\"\\nExactitud COVID = \"+\"{0:.3f}\".format(exactitud_covid*100)+\"%\")\n",
        "exactitud_neumonia = cm[1][1]/(cm[1][0]+cm[1][1]+cm[1][2])\n",
        "print(\"Exactitud Neumonía = \"+\"{0:.3f}\".format(exactitud_neumonia*100)+\"%\")\n",
        "exactitud_normal = cm[2][2]/(cm[2][0]+cm[2][1]+cm[2][2])\n",
        "print(\"Exactitud Normal = \"+\"{0:.3f}\".format(exactitud_normal*100)+\"%\")\n",
        "\n",
        "###Sensivilidad (Recall)###\n",
        "sensi_covid = cm[0][0]/(cm[0][0]+cm[0][1]+cm[0][2])\n",
        "print(\"\\nSensibilidad COVID = \"+\"{0:.3f}\".format(sensi_covid*100)+\"%\")\n",
        "sensi_neumonia = cm[1][1]/(cm[1][0]+cm[1][1]+cm[1][2])\n",
        "print(\"Sensibilidad Neumonía = \"+\"{0:.3f}\".format(sensi_neumonia*100)+\"%\")\n",
        "sensi_normal = cm[2][2]/(cm[2][0]+cm[2][1]+cm[2][2])\n",
        "print(\"Sensibilidad Normal = \"+\"{0:.3f}\".format(sensi_normal*100)+\"%\")\n",
        "\n",
        "###Especificidad (Specificity)###\n",
        "esp_covid = (cm[1][1]+cm[1][2]+cm[2][1]+cm[2][2])/(cm[1][1]+cm[1][2]+cm[2][1]+cm[2][2]+cm[1][0]+cm[2][0])\n",
        "print(\"\\nEspecificidad COVID = \"+\"{0:.3f}\".format(esp_covid*100)+\"%\")\n",
        "esp_neumonia = (cm[0][0]+cm[2][0]+cm[2][2]+cm[0][2])/(cm[0][0]+cm[2][0]+cm[2][2]+cm[0][2]+cm[0][1]+cm[2][1])\n",
        "print(\"Especificidad Neumonía = \"+\"{0:.3f}\".format(esp_neumonia*100)+\"%\")\n",
        "esp_normal = (cm[0][0]+cm[0][1]+cm[1][0]+cm[1][1])/(cm[0][0]+cm[0][1]+cm[1][0]+cm[1][1]+cm[0][2]+cm[1][2])\n",
        "print(\"Especificidad Normal = \"+\"{0:.3f}\".format(esp_normal*100)+\"%\")\n",
        "\n",
        "###F1###\n",
        "f1_covid = cm[0][0]/(cm[0][0]+((cm[0][1]+cm[0][2]+cm[1][0]+cm[2][0])/2))\n",
        "print(\"\\nF1 COVID = \"+\"{0:.3f}\".format(f1_covid*100)+\"%\")\n",
        "f1_neumonia = cm[1][1]/(cm[1][1]+((cm[1][0]+cm[1][2]+cm[0][1]+cm[2][1])/2))\n",
        "print(\"F1 Neumonia = \"+\"{0:.3f}\".format(f1_neumonia*100)+\"%\")\n",
        "f1_normal = cm[2][2]/(cm[2][2]+((cm[2][0]+cm[2][1]+cm[0][2]+cm[1][2])/2))\n",
        "print(\"F1 Neumonia = \"+\"{0:.3f}\".format(f1_normal*100)+\"%\")"
      ],
      "execution_count": null,
      "outputs": [
        {
          "output_type": "stream",
          "text": [
            "Precisión: 95.778%\n",
            "\n",
            "Exactitud COVID = 95.333%\n",
            "Exactitud Neumonía = 96.667%\n",
            "Exactitud Normal = 95.333%\n",
            "\n",
            "Sensibilidad COVID = 95.333%\n",
            "Sensibilidad Neumonía = 96.667%\n",
            "Sensibilidad Normal = 95.333%\n",
            "\n",
            "Especificidad COVID = 98.333%\n",
            "Especificidad Neumonía = 98.333%\n",
            "Especificidad Normal = 97.000%\n",
            "\n",
            "F1 COVID = 95.973%\n",
            "F1 Neumonia = 96.667%\n",
            "F1 Neumonia = 94.702%\n"
          ],
          "name": "stdout"
        }
      ]
    },
    {
      "cell_type": "code",
      "metadata": {
        "id": "YiG3lYhZM22T"
      },
      "source": [
        ""
      ],
      "execution_count": null,
      "outputs": []
    }
  ]
}